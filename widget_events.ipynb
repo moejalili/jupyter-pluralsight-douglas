{
 "cells": [
  {
   "cell_type": "code",
   "execution_count": 1,
   "metadata": {},
   "outputs": [],
   "source": [
    "import ipywidgets as widgets"
   ]
  },
  {
   "cell_type": "code",
   "execution_count": 2,
   "metadata": {},
   "outputs": [],
   "source": [
    "city = widgets.Dropdown(options = ['Brisbane', 'Gold Coast', 'Noosa', 'Townsville'], value = 'Brisbane')"
   ]
  },
  {
   "cell_type": "code",
   "execution_count": 4,
   "metadata": {},
   "outputs": [],
   "source": [
    "from IPython.display import display"
   ]
  },
  {
   "cell_type": "code",
   "execution_count": 5,
   "metadata": {},
   "outputs": [
    {
     "data": {
      "application/vnd.jupyter.widget-view+json": {
       "model_id": "1ec828428852482e9deb4565dd1ff889",
       "version_major": 2,
       "version_minor": 0
      },
      "text/plain": [
       "Dropdown(options=('Brisbane', 'Gold Coast', 'Noosa', 'Townsville'), value='Brisbane')"
      ]
     },
     "metadata": {},
     "output_type": "display_data"
    },
    {
     "name": "stdout",
     "output_type": "stream",
     "text": [
      "{'name': 'value', 'old': 'Gold Coast', 'new': 'Noosa', 'owner': Dropdown(index=2, options=('Brisbane', 'Gold Coast', 'Noosa', 'Townsville'), value='Noosa'), 'type': 'change'}\n"
     ]
    }
   ],
   "source": [
    "display(city)"
   ]
  },
  {
   "cell_type": "code",
   "execution_count": 6,
   "metadata": {},
   "outputs": [
    {
     "data": {
      "text/plain": [
       "'Noosa'"
      ]
     },
     "execution_count": 6,
     "metadata": {},
     "output_type": "execute_result"
    }
   ],
   "source": [
    "city.value     # get the value"
   ]
  },
  {
   "cell_type": "code",
   "execution_count": 8,
   "metadata": {},
   "outputs": [],
   "source": [
    "city.value = 'Brisbane'  # set the value"
   ]
  },
  {
   "cell_type": "code",
   "execution_count": 10,
   "metadata": {},
   "outputs": [
    {
     "data": {
      "application/vnd.jupyter.widget-view+json": {
       "model_id": "e5e8e57b6b5c491a941a5fa06fb8d080",
       "version_major": 2,
       "version_minor": 0
      },
      "text/plain": [
       "Button(description='Take Action', style=ButtonStyle())"
      ]
     },
     "metadata": {},
     "output_type": "display_data"
    },
    {
     "name": "stdout",
     "output_type": "stream",
     "text": [
      "10:51:17 P\n",
      "10:51:21 P\n",
      "10:51:23 P\n",
      "10:51:26 P\n",
      "10:53:33 P\n"
     ]
    }
   ],
   "source": [
    "btn = widgets.Button(description = 'Take Action')                 # just make the button without any action\n",
    "display(btn)                                                      "
   ]
  },
  {
   "cell_type": "code",
   "execution_count": 17,
   "metadata": {},
   "outputs": [],
   "source": [
    "import datetime\n",
    "def btn_clicked(b):\n",
    "    print(datetime.datetime.now().strftime('%I:%M:%S %P'))"
   ]
  },
  {
   "cell_type": "markdown",
   "metadata": {},
   "source": [
    "to register it with the button widget, pass this function to the __on_click method__. Now every time the button is clicked, the btn_clicked function will be invoked, which will print the current time."
   ]
  },
  {
   "cell_type": "code",
   "execution_count": 16,
   "metadata": {},
   "outputs": [],
   "source": [
    "btn.on_click(btn_clicked)     "
   ]
  },
  {
   "cell_type": "code",
   "execution_count": 18,
   "metadata": {},
   "outputs": [
    {
     "data": {
      "application/vnd.jupyter.widget-view+json": {
       "model_id": "1ec828428852482e9deb4565dd1ff889",
       "version_major": 2,
       "version_minor": 0
      },
      "text/plain": [
       "Dropdown(options=('Brisbane', 'Gold Coast', 'Noosa', 'Townsville'), value='Brisbane')"
      ]
     },
     "metadata": {},
     "output_type": "display_data"
    },
    {
     "name": "stdout",
     "output_type": "stream",
     "text": [
      "{'name': 'value', 'old': 'Brisbane', 'new': 'Gold Coast', 'owner': Dropdown(index=1, options=('Brisbane', 'Gold Coast', 'Noosa', 'Townsville'), value='Gold Coast'), 'type': 'change'}\n"
     ]
    }
   ],
   "source": [
    "display(city)"
   ]
  },
  {
   "cell_type": "code",
   "execution_count": 19,
   "metadata": {},
   "outputs": [],
   "source": [
    "def city_observer(bunch):\n",
    "    print(bunch)"
   ]
  },
  {
   "cell_type": "code",
   "execution_count": 21,
   "metadata": {},
   "outputs": [],
   "source": [
    "city.observe(city_observer, names = 'value')     "
   ]
  },
  {
   "cell_type": "markdown",
   "metadata": {},
   "source": [
    "Now I'll select a new value in the drop-down. The bunch is represented as a __dictionary__, and it has information about the change. Mostly what I'm interested in about here is the __new key__, which is the value that was just selected."
   ]
  },
  {
   "cell_type": "code",
   "execution_count": null,
   "metadata": {},
   "outputs": [],
   "source": []
  }
 ],
 "metadata": {
  "kernelspec": {
   "display_name": "Python 3",
   "language": "python",
   "name": "python3"
  },
  "language_info": {
   "codemirror_mode": {
    "name": "ipython",
    "version": 3
   },
   "file_extension": ".py",
   "mimetype": "text/x-python",
   "name": "python",
   "nbconvert_exporter": "python",
   "pygments_lexer": "ipython3",
   "version": "3.7.6"
  }
 },
 "nbformat": 4,
 "nbformat_minor": 4
}
