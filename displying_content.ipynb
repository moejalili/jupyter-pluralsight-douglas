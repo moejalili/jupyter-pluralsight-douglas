{
 "cells": [
  {
   "cell_type": "markdown",
   "metadata": {},
   "source": [
    "# `Displaying Rich Content`"
   ]
  },
  {
   "cell_type": "markdown",
   "metadata": {},
   "source": [
    "# `Markdown`"
   ]
  },
  {
   "cell_type": "markdown",
   "metadata": {},
   "source": [
    "__`M`__ Select the cell and press M key to convert Code mode to Markdown mode "
   ]
  },
  {
   "cell_type": "markdown",
   "metadata": {},
   "source": [
    "__`Y`__ Select the cell and press Y key to convert Markdown mode to Code mode "
   ]
  },
  {
   "cell_type": "markdown",
   "metadata": {},
   "source": [
    "__Table__"
   ]
  },
  {
   "cell_type": "markdown",
   "metadata": {},
   "source": [
    "| Day | Apples | Bananas | Oranges |\n",
    "| --- |------  | ------- | ------- |\n",
    "| **Mon** |100     |200      | 300     |\n",
    "| **Tue** |200     |300      | 400     |"
   ]
  },
  {
   "cell_type": "markdown",
   "metadata": {},
   "source": [
    "### Greet the user\n",
    "#### Python"
   ]
  },
  {
   "cell_type": "markdown",
   "metadata": {},
   "source": [
    "```python                                   \n",
    "def say_hello(name):\n",
    "    print('hello, {0}'.format(name))\n",
    "```"
   ]
  },
  {
   "cell_type": "markdown",
   "metadata": {},
   "source": [
    "#### JavaScript"
   ]
  },
  {
   "cell_type": "markdown",
   "metadata": {},
   "source": [
    "```javascript\n",
    "function say_hello(name) {\n",
    "    console.log('hello, ' + name)\n",
    "\n",
    "```"
   ]
  },
  {
   "cell_type": "markdown",
   "metadata": {},
   "source": [
    " ### check out this website for other Markdown tips : https://daringfireball.net/projects/markdown/"
   ]
  },
  {
   "cell_type": "markdown",
   "metadata": {},
   "source": [
    "# `Visualizations`"
   ]
  },
  {
   "cell_type": "markdown",
   "metadata": {},
   "source": [
    "We use __matplotlib__ which is part of python data stack to the visualization."
   ]
  },
  {
   "cell_type": "code",
   "execution_count": 35,
   "metadata": {},
   "outputs": [],
   "source": [
    "import matplotlib.pyplot as plt"
   ]
  },
  {
   "cell_type": "markdown",
   "metadata": {},
   "source": [
    "now to get the visulization to show up in the Notebook, we used another magic command!"
   ]
  },
  {
   "cell_type": "code",
   "execution_count": 36,
   "metadata": {},
   "outputs": [],
   "source": [
    "%matplotlib inline          "
   ]
  },
  {
   "cell_type": "code",
   "execution_count": 37,
   "metadata": {},
   "outputs": [],
   "source": [
    "import numpy as np"
   ]
  },
  {
   "cell_type": "code",
   "execution_count": 38,
   "metadata": {},
   "outputs": [],
   "source": [
    "np.random.seed(15976)"
   ]
  },
  {
   "cell_type": "code",
   "execution_count": 39,
   "metadata": {},
   "outputs": [
    {
     "data": {
      "text/plain": [
       "array([ 1.45743535,  1.18434294,  0.38009475, ..., -0.21180832,\n",
       "       -1.25854536,  0.74069853])"
      ]
     },
     "execution_count": 39,
     "metadata": {},
     "output_type": "execute_result"
    }
   ],
   "source": [
    "SIZE = 10000\n",
    "x = np.random.normal(size=SIZE)               # creating the data with normal ditribution \n",
    "x"
   ]
  },
  {
   "cell_type": "code",
   "execution_count": 45,
   "metadata": {},
   "outputs": [
    {
     "data": {
      "text/plain": [
       "(array([  1.,   1.,   0.,   2.,   4.,   6.,   8.,  11.,  18.,  20.,  47.,\n",
       "         47.,  93., 127., 155., 193., 251., 318., 346., 421., 455., 500.,\n",
       "        560., 642., 598., 613., 583., 605., 536., 507., 432., 375., 337.,\n",
       "        303., 213., 154., 154., 102.,  64.,  49.,  51.,  35.,  22.,  17.,\n",
       "          7.,   9.,   4.,   1.,   0.,   3.]),\n",
       " array([-3.83794801, -3.68569056, -3.5334331 , -3.38117564, -3.22891819,\n",
       "        -3.07666073, -2.92440328, -2.77214582, -2.61988836, -2.46763091,\n",
       "        -2.31537345, -2.163116  , -2.01085854, -1.85860108, -1.70634363,\n",
       "        -1.55408617, -1.40182872, -1.24957126, -1.0973138 , -0.94505635,\n",
       "        -0.79279889, -0.64054144, -0.48828398, -0.33602652, -0.18376907,\n",
       "        -0.03151161,  0.12074585,  0.2730033 ,  0.42526076,  0.57751821,\n",
       "         0.72977567,  0.88203313,  1.03429058,  1.18654804,  1.33880549,\n",
       "         1.49106295,  1.64332041,  1.79557786,  1.94783532,  2.10009277,\n",
       "         2.25235023,  2.40460769,  2.55686514,  2.7091226 ,  2.86138005,\n",
       "         3.01363751,  3.16589497,  3.31815242,  3.47040988,  3.62266734,\n",
       "         3.77492479]),\n",
       " <a list of 50 Patch objects>)"
      ]
     },
     "execution_count": 45,
     "metadata": {},
     "output_type": "execute_result"
    },
    {
     "data": {
      "image/png": "[encoded data removed]",
      "text/plain": [
       "<Figure size 432x288 with 1 Axes>"
      ]
     },
     "metadata": {
      "needs_background": "light"
     },
     "output_type": "display_data"
    }
   ],
   "source": [
    "plt.hist(x, bins = 50)                        # histogram plot"
   ]
  },
  {
   "cell_type": "code",
   "execution_count": 41,
   "metadata": {},
   "outputs": [
    {
     "data": {
      "text/plain": [
       "(array([ 980., 1052.,  970.,  954., 1004., 1009., 1013.,  997., 1002.,\n",
       "        1019.]),\n",
       " array([3.96757952e-05, 1.00014124e-01, 1.99988571e-01, 2.99963019e-01,\n",
       "        3.99937467e-01, 4.99911914e-01, 5.99886362e-01, 6.99860810e-01,\n",
       "        7.99835258e-01, 8.99809705e-01, 9.99784153e-01]),\n",
       " <a list of 10 Patch objects>)"
      ]
     },
     "execution_count": 41,
     "metadata": {},
     "output_type": "execute_result"
    },
    {
     "data": {
      "image/png": "[encoded data removed]",
      "text/plain": [
       "<Figure size 432x288 with 1 Axes>"
      ]
     },
     "metadata": {
      "needs_background": "light"
     },
     "output_type": "display_data"
    }
   ],
   "source": [
    "xu = np.random.uniform(size = SIZE)              # creating the data with uniform ditribution \n",
    "plt.hist(xu)"
   ]
  },
  {
   "cell_type": "code",
   "execution_count": 42,
   "metadata": {},
   "outputs": [],
   "source": [
    "y = np.random.normal(size = SIZE)\n",
    "yu = np.random.uniform(size = SIZE)"
   ]
  },
  {
   "cell_type": "code",
   "execution_count": 43,
   "metadata": {},
   "outputs": [
    {
     "data": {
      "image/png": "[encoded data removed]",
      "text/plain": [
       "<Figure size 432x288 with 1 Axes>"
      ]
     },
     "metadata": {
      "needs_background": "light"
     },
     "output_type": "display_data"
    }
   ],
   "source": [
    "plt.scatter(x, y)                # more obviouse now\n",
    "plt.show()"
   ]
  },
  {
   "cell_type": "code",
   "execution_count": 44,
   "metadata": {},
   "outputs": [
    {
     "data": {
      "image/png": "[encoded data removed]",
      "text/plain": [
       "<Figure size 432x288 with 1 Axes>"
      ]
     },
     "metadata": {
      "needs_background": "light"
     },
     "output_type": "display_data"
    }
   ],
   "source": [
    "plt.scatter(xu, yu)\n",
    "plt.show()"
   ]
  },
  {
   "cell_type": "markdown",
   "metadata": {},
   "source": [
    " ### check out this website for other matplotlib documentation : https://matplotlib.org/"
   ]
  },
  {
   "cell_type": "markdown",
   "metadata": {},
   "source": [
    "#### ``Seaborn`` pyDate project\n",
    "\n",
    "There is another library called __seaborn__ whic is part of PyData project, which includes number of popular visualizations.  The nice thing about seaborn is that it leverages matplotlib, so anything displayed with seaborn can be used in Jupyter Notebook as well."
   ]
  },
  {
   "cell_type": "markdown",
   "metadata": {},
   "source": [
    "For a brief demo, I'll go to the seaborn home page at __http://seaborn.pydata.org/__ . I'll go to the example __gallery__, and I'll click on this first example. Then I'll copy the source. Back in Jupyter Notebook, I'll paste it in a new cell and then run it with Shift+Enter. I don't need to do anything else in this notebook because I used the matplotlib magic command previously, but in the new notebook you would have to include it before rendering seaborn graphs."
   ]
  },
  {
   "cell_type": "code",
   "execution_count": 50,
   "metadata": {},
   "outputs": [
    {
     "data": {
      "text/plain": [
       "<seaborn.axisgrid.FacetGrid at 0x1a21932050>"
      ]
     },
     "execution_count": 50,
     "metadata": {},
     "output_type": "execute_result"
    },
    {
     "data": {
      "image/png": "[encoded data removed]",
      "text/plain": [
       "<Figure size 576x576 with 4 Axes>"
      ]
     },
     "metadata": {},
     "output_type": "display_data"
    }
   ],
   "source": [
    "import seaborn as sns\n",
    "sns.set(style=\"ticks\")\n",
    "\n",
    "# Load the example dataset for Anscombe's quartet\n",
    "df = sns.load_dataset(\"anscombe\")\n",
    "\n",
    "# Show the results of a linear regression within each dataset\n",
    "sns.lmplot(x=\"x\", y=\"y\", col=\"dataset\", hue=\"dataset\", data=df,\n",
    "           col_wrap=2, ci=None, palette=\"muted\", height=4,\n",
    "           scatter_kws={\"s\": 50, \"alpha\": 1})"
   ]
  },
  {
   "cell_type": "code",
   "execution_count": 52,
   "metadata": {},
   "outputs": [
    {
     "data": {
      "text/html": [
       "<div>\n",
       "<style scoped>\n",
       "    .dataframe tbody tr th:only-of-type {\n",
       "        vertical-align: middle;\n",
       "    }\n",
       "\n",
       "    .dataframe tbody tr th {\n",
       "        vertical-align: top;\n",
       "    }\n",
       "\n",
       "    .dataframe thead th {\n",
       "        text-align: right;\n",
       "    }\n",
       "</style>\n",
       "<table border=\"1\" class=\"dataframe\">\n",
       "  <thead>\n",
       "    <tr style=\"text-align: right;\">\n",
       "      <th></th>\n",
       "      <th>District</th>\n",
       "      <th>Local government</th>\n",
       "      <th>Project number</th>\n",
       "      <th>Category</th>\n",
       "      <th>Project name/Location</th>\n",
       "      <th>Location description</th>\n",
       "      <th>Indicative_total_cost</th>\n",
       "      <th>Local Government Contribution</th>\n",
       "      <th>Queensland Government Contribution</th>\n",
       "      <th>Australian Government Contribution</th>\n",
       "      <th>Estimated expenditure to 30 June 2016</th>\n",
       "      <th>2016-17 (Approved)</th>\n",
       "      <th>2017-18 (Approved)</th>\n",
       "      <th>2018-19 to 2019-2020 (Indicative)</th>\n",
       "      <th>Beyond (Indicative)</th>\n",
       "      <th>Work description</th>\n",
       "      <th>Endnote</th>\n",
       "    </tr>\n",
       "  </thead>\n",
       "  <tbody>\n",
       "    <tr>\n",
       "      <th>0</th>\n",
       "      <td>Central West</td>\n",
       "      <td>Barcaldine</td>\n",
       "      <td>205/LGSR/26</td>\n",
       "      <td>LGRD</td>\n",
       "      <td>Kensington Road</td>\n",
       "      <td>Various locations</td>\n",
       "      <td>400000</td>\n",
       "      <td>200000</td>\n",
       "      <td>200000</td>\n",
       "      <td>0</td>\n",
       "      <td>0</td>\n",
       "      <td>0</td>\n",
       "      <td>200000</td>\n",
       "      <td>0</td>\n",
       "      <td>0</td>\n",
       "      <td>Rehabilitate pavement</td>\n",
       "      <td>NaN</td>\n",
       "    </tr>\n",
       "    <tr>\n",
       "      <th>1</th>\n",
       "      <td>Central West</td>\n",
       "      <td>Barcaldine</td>\n",
       "      <td>205/LGSR/27</td>\n",
       "      <td>LGRD</td>\n",
       "      <td>Various roads</td>\n",
       "      <td>Various locations</td>\n",
       "      <td>60000</td>\n",
       "      <td>30000</td>\n",
       "      <td>30000</td>\n",
       "      <td>0</td>\n",
       "      <td>0</td>\n",
       "      <td>30000</td>\n",
       "      <td>0</td>\n",
       "      <td>0</td>\n",
       "      <td>0</td>\n",
       "      <td>Construct footpath/s</td>\n",
       "      <td>NaN</td>\n",
       "    </tr>\n",
       "    <tr>\n",
       "      <th>2</th>\n",
       "      <td>Central West</td>\n",
       "      <td>Barcaldine</td>\n",
       "      <td>205/LGSR/28</td>\n",
       "      <td>LGRD</td>\n",
       "      <td>Barcaldine - Isisford Road</td>\n",
       "      <td>Various locations</td>\n",
       "      <td>400000</td>\n",
       "      <td>200000</td>\n",
       "      <td>200000</td>\n",
       "      <td>0</td>\n",
       "      <td>0</td>\n",
       "      <td>0</td>\n",
       "      <td>0</td>\n",
       "      <td>200000</td>\n",
       "      <td>0</td>\n",
       "      <td>Rehabilitate pavement</td>\n",
       "      <td>NaN</td>\n",
       "    </tr>\n",
       "    <tr>\n",
       "      <th>3</th>\n",
       "      <td>Central West</td>\n",
       "      <td>Barcaldine</td>\n",
       "      <td>205/LGSR/29</td>\n",
       "      <td>LGRD</td>\n",
       "      <td>Barcaldine - Isisford Road</td>\n",
       "      <td>45.00 - 45.30km</td>\n",
       "      <td>200000</td>\n",
       "      <td>100000</td>\n",
       "      <td>100000</td>\n",
       "      <td>0</td>\n",
       "      <td>0</td>\n",
       "      <td>100000</td>\n",
       "      <td>0</td>\n",
       "      <td>0</td>\n",
       "      <td>0</td>\n",
       "      <td>Install floodway/s</td>\n",
       "      <td>NaN</td>\n",
       "    </tr>\n",
       "    <tr>\n",
       "      <th>4</th>\n",
       "      <td>Central West</td>\n",
       "      <td>Barcaldine</td>\n",
       "      <td>205/LGSR/30</td>\n",
       "      <td>LGRD</td>\n",
       "      <td>Eastmere Road</td>\n",
       "      <td>37.40 - 37.70km</td>\n",
       "      <td>200000</td>\n",
       "      <td>100000</td>\n",
       "      <td>100000</td>\n",
       "      <td>0</td>\n",
       "      <td>0</td>\n",
       "      <td>100000</td>\n",
       "      <td>0</td>\n",
       "      <td>0</td>\n",
       "      <td>0</td>\n",
       "      <td>Widen and seal</td>\n",
       "      <td>NaN</td>\n",
       "    </tr>\n",
       "    <tr>\n",
       "      <th>5</th>\n",
       "      <td>Central West</td>\n",
       "      <td>Barcaldine</td>\n",
       "      <td>205/LGSR/31</td>\n",
       "      <td>LGRD</td>\n",
       "      <td>Eastmere Road</td>\n",
       "      <td>37.40 - 37.70km</td>\n",
       "      <td>250000</td>\n",
       "      <td>125000</td>\n",
       "      <td>125000</td>\n",
       "      <td>0</td>\n",
       "      <td>0</td>\n",
       "      <td>125000</td>\n",
       "      <td>0</td>\n",
       "      <td>0</td>\n",
       "      <td>0</td>\n",
       "      <td>Install barrier/s</td>\n",
       "      <td>NaN</td>\n",
       "    </tr>\n",
       "    <tr>\n",
       "      <th>6</th>\n",
       "      <td>Central West</td>\n",
       "      <td>Barcoo</td>\n",
       "      <td>206/LGSR/10</td>\n",
       "      <td>LGRD</td>\n",
       "      <td>Winton - Jundah Road</td>\n",
       "      <td>Sections : 115.00 - 170.00km</td>\n",
       "      <td>240000</td>\n",
       "      <td>120000</td>\n",
       "      <td>120000</td>\n",
       "      <td>0</td>\n",
       "      <td>0</td>\n",
       "      <td>0</td>\n",
       "      <td>120000</td>\n",
       "      <td>0</td>\n",
       "      <td>0</td>\n",
       "      <td>Install floodway/s</td>\n",
       "      <td>NaN</td>\n",
       "    </tr>\n",
       "    <tr>\n",
       "      <th>7</th>\n",
       "      <td>Central West</td>\n",
       "      <td>Barcoo</td>\n",
       "      <td>206/LGSR/11</td>\n",
       "      <td>LGRD</td>\n",
       "      <td>Winton - Jundah Road</td>\n",
       "      <td>Sections : 115.00 - 170.00km</td>\n",
       "      <td>300000</td>\n",
       "      <td>150000</td>\n",
       "      <td>150000</td>\n",
       "      <td>0</td>\n",
       "      <td>0</td>\n",
       "      <td>0</td>\n",
       "      <td>0</td>\n",
       "      <td>150000</td>\n",
       "      <td>0</td>\n",
       "      <td>Install floodway/s</td>\n",
       "      <td>NaN</td>\n",
       "    </tr>\n",
       "    <tr>\n",
       "      <th>8</th>\n",
       "      <td>Central West</td>\n",
       "      <td>Barcoo</td>\n",
       "      <td>206/LGSR/12</td>\n",
       "      <td>LGRD</td>\n",
       "      <td>Yaraka - Retreat Road</td>\n",
       "      <td>31.00 - 31.20km</td>\n",
       "      <td>300000</td>\n",
       "      <td>150000</td>\n",
       "      <td>150000</td>\n",
       "      <td>0</td>\n",
       "      <td>0</td>\n",
       "      <td>0</td>\n",
       "      <td>0</td>\n",
       "      <td>150000</td>\n",
       "      <td>0</td>\n",
       "      <td>Install floodway/s</td>\n",
       "      <td>NaN</td>\n",
       "    </tr>\n",
       "    <tr>\n",
       "      <th>9</th>\n",
       "      <td>Central West</td>\n",
       "      <td>Barcoo</td>\n",
       "      <td>206/LGSR/14</td>\n",
       "      <td>LGRD</td>\n",
       "      <td>Davenport Road</td>\n",
       "      <td>47.00 - 87.00km</td>\n",
       "      <td>1750000</td>\n",
       "      <td>1100000</td>\n",
       "      <td>650000</td>\n",
       "      <td>0</td>\n",
       "      <td>0</td>\n",
       "      <td>650000</td>\n",
       "      <td>0</td>\n",
       "      <td>0</td>\n",
       "      <td>0</td>\n",
       "      <td>Re-sheet unsealed road</td>\n",
       "      <td>NaN</td>\n",
       "    </tr>\n",
       "    <tr>\n",
       "      <th>10</th>\n",
       "      <td>Central West</td>\n",
       "      <td>Barcoo</td>\n",
       "      <td>206/LGSR/9</td>\n",
       "      <td>LGRD</td>\n",
       "      <td>Various roads</td>\n",
       "      <td>Various locations</td>\n",
       "      <td>60000</td>\n",
       "      <td>30000</td>\n",
       "      <td>30000</td>\n",
       "      <td>0</td>\n",
       "      <td>0</td>\n",
       "      <td>0</td>\n",
       "      <td>30000</td>\n",
       "      <td>0</td>\n",
       "      <td>0</td>\n",
       "      <td>Install, upgrade or replace roadside delineation</td>\n",
       "      <td>NaN</td>\n",
       "    </tr>\n",
       "    <tr>\n",
       "      <th>11</th>\n",
       "      <td>Central West</td>\n",
       "      <td>Blackall-Tambo</td>\n",
       "      <td>208/LGSR/11</td>\n",
       "      <td>LGRD</td>\n",
       "      <td>Tumbar Road</td>\n",
       "      <td>Various locations</td>\n",
       "      <td>200000</td>\n",
       "      <td>100000</td>\n",
       "      <td>100000</td>\n",
       "      <td>0</td>\n",
       "      <td>0</td>\n",
       "      <td>100000</td>\n",
       "      <td>0</td>\n",
       "      <td>0</td>\n",
       "      <td>0</td>\n",
       "      <td>Pave and seal</td>\n",
       "      <td>NaN</td>\n",
       "    </tr>\n",
       "    <tr>\n",
       "      <th>12</th>\n",
       "      <td>Central West</td>\n",
       "      <td>Blackall-Tambo</td>\n",
       "      <td>208/LGSR/12</td>\n",
       "      <td>LGRD</td>\n",
       "      <td>Ward Road</td>\n",
       "      <td>Various locations</td>\n",
       "      <td>200000</td>\n",
       "      <td>100000</td>\n",
       "      <td>100000</td>\n",
       "      <td>0</td>\n",
       "      <td>0</td>\n",
       "      <td>100000</td>\n",
       "      <td>0</td>\n",
       "      <td>0</td>\n",
       "      <td>0</td>\n",
       "      <td>Pave and seal</td>\n",
       "      <td>NaN</td>\n",
       "    </tr>\n",
       "    <tr>\n",
       "      <th>13</th>\n",
       "      <td>Central West</td>\n",
       "      <td>Blackall-Tambo</td>\n",
       "      <td>208/LGSR/14</td>\n",
       "      <td>LGRD</td>\n",
       "      <td>Avington Road</td>\n",
       "      <td>Sections : 36.60 - 42.20km</td>\n",
       "      <td>400000</td>\n",
       "      <td>200000</td>\n",
       "      <td>200000</td>\n",
       "      <td>0</td>\n",
       "      <td>0</td>\n",
       "      <td>0</td>\n",
       "      <td>200000</td>\n",
       "      <td>0</td>\n",
       "      <td>0</td>\n",
       "      <td>Re-sheet unsealed road</td>\n",
       "      <td>NaN</td>\n",
       "    </tr>\n",
       "    <tr>\n",
       "      <th>14</th>\n",
       "      <td>Central West</td>\n",
       "      <td>Blackall-Tambo</td>\n",
       "      <td>208/LGSR/15</td>\n",
       "      <td>LGRD</td>\n",
       "      <td>Various roads</td>\n",
       "      <td>Various locations</td>\n",
       "      <td>60000</td>\n",
       "      <td>30000</td>\n",
       "      <td>30000</td>\n",
       "      <td>0</td>\n",
       "      <td>0</td>\n",
       "      <td>30000</td>\n",
       "      <td>0</td>\n",
       "      <td>0</td>\n",
       "      <td>0</td>\n",
       "      <td>Construct footpath/s</td>\n",
       "      <td>NaN</td>\n",
       "    </tr>\n",
       "    <tr>\n",
       "      <th>15</th>\n",
       "      <td>Central West</td>\n",
       "      <td>Blackall-Tambo</td>\n",
       "      <td>208/LGSR/16</td>\n",
       "      <td>LGRD</td>\n",
       "      <td>Emmet Road</td>\n",
       "      <td>Various locations</td>\n",
       "      <td>400000</td>\n",
       "      <td>200000</td>\n",
       "      <td>200000</td>\n",
       "      <td>0</td>\n",
       "      <td>0</td>\n",
       "      <td>0</td>\n",
       "      <td>0</td>\n",
       "      <td>200000</td>\n",
       "      <td>0</td>\n",
       "      <td>Pave and seal</td>\n",
       "      <td>NaN</td>\n",
       "    </tr>\n",
       "    <tr>\n",
       "      <th>16</th>\n",
       "      <td>Central West</td>\n",
       "      <td>Boulia</td>\n",
       "      <td>209/LGSR/12</td>\n",
       "      <td>LGRD</td>\n",
       "      <td>Boulia - Tobermorey Road</td>\n",
       "      <td>122.00 - 130.00km</td>\n",
       "      <td>315000</td>\n",
       "      <td>158000</td>\n",
       "      <td>158000</td>\n",
       "      <td>0</td>\n",
       "      <td>0</td>\n",
       "      <td>158000</td>\n",
       "      <td>0</td>\n",
       "      <td>0</td>\n",
       "      <td>0</td>\n",
       "      <td>Re-sheet unsealed road</td>\n",
       "      <td>NaN</td>\n",
       "    </tr>\n",
       "    <tr>\n",
       "      <th>17</th>\n",
       "      <td>Central West</td>\n",
       "      <td>Boulia</td>\n",
       "      <td>209/LGSR/14</td>\n",
       "      <td>LGRD</td>\n",
       "      <td>Boulia - Tobermorey Road</td>\n",
       "      <td>Various locations</td>\n",
       "      <td>300000</td>\n",
       "      <td>150000</td>\n",
       "      <td>150000</td>\n",
       "      <td>0</td>\n",
       "      <td>0</td>\n",
       "      <td>0</td>\n",
       "      <td>150000</td>\n",
       "      <td>0</td>\n",
       "      <td>0</td>\n",
       "      <td>Pave and seal</td>\n",
       "      <td>NaN</td>\n",
       "    </tr>\n",
       "    <tr>\n",
       "      <th>18</th>\n",
       "      <td>Central West</td>\n",
       "      <td>Boulia</td>\n",
       "      <td>209/LGSR/15</td>\n",
       "      <td>LGRD</td>\n",
       "      <td>Herbert Street</td>\n",
       "      <td>Various locations</td>\n",
       "      <td>60000</td>\n",
       "      <td>30000</td>\n",
       "      <td>30000</td>\n",
       "      <td>0</td>\n",
       "      <td>0</td>\n",
       "      <td>30000</td>\n",
       "      <td>0</td>\n",
       "      <td>0</td>\n",
       "      <td>0</td>\n",
       "      <td>Construct footpath/s</td>\n",
       "      <td>NaN</td>\n",
       "    </tr>\n",
       "  </tbody>\n",
       "</table>\n",
       "</div>"
      ],
      "text/plain": [
       "        District Local government Project number Category  \\\n",
       "0   Central West       Barcaldine    205/LGSR/26     LGRD   \n",
       "1   Central West       Barcaldine    205/LGSR/27     LGRD   \n",
       "2   Central West       Barcaldine    205/LGSR/28     LGRD   \n",
       "3   Central West       Barcaldine    205/LGSR/29     LGRD   \n",
       "4   Central West       Barcaldine    205/LGSR/30     LGRD   \n",
       "5   Central West       Barcaldine    205/LGSR/31     LGRD   \n",
       "6   Central West           Barcoo    206/LGSR/10     LGRD   \n",
       "7   Central West           Barcoo    206/LGSR/11     LGRD   \n",
       "8   Central West           Barcoo    206/LGSR/12     LGRD   \n",
       "9   Central West           Barcoo    206/LGSR/14     LGRD   \n",
       "10  Central West           Barcoo     206/LGSR/9     LGRD   \n",
       "11  Central West   Blackall-Tambo    208/LGSR/11     LGRD   \n",
       "12  Central West   Blackall-Tambo    208/LGSR/12     LGRD   \n",
       "13  Central West   Blackall-Tambo    208/LGSR/14     LGRD   \n",
       "14  Central West   Blackall-Tambo    208/LGSR/15     LGRD   \n",
       "15  Central West   Blackall-Tambo    208/LGSR/16     LGRD   \n",
       "16  Central West           Boulia    209/LGSR/12     LGRD   \n",
       "17  Central West           Boulia    209/LGSR/14     LGRD   \n",
       "18  Central West           Boulia    209/LGSR/15     LGRD   \n",
       "\n",
       "         Project name/Location          Location description  \\\n",
       "0              Kensington Road             Various locations   \n",
       "1                Various roads             Various locations   \n",
       "2   Barcaldine - Isisford Road             Various locations   \n",
       "3   Barcaldine - Isisford Road               45.00 - 45.30km   \n",
       "4                Eastmere Road               37.40 - 37.70km   \n",
       "5                Eastmere Road               37.40 - 37.70km   \n",
       "6         Winton - Jundah Road  Sections : 115.00 - 170.00km   \n",
       "7         Winton - Jundah Road  Sections : 115.00 - 170.00km   \n",
       "8        Yaraka - Retreat Road               31.00 - 31.20km   \n",
       "9              Davenport Road                47.00 - 87.00km   \n",
       "10               Various roads             Various locations   \n",
       "11                 Tumbar Road             Various locations   \n",
       "12                   Ward Road             Various locations   \n",
       "13               Avington Road    Sections : 36.60 - 42.20km   \n",
       "14               Various roads             Various locations   \n",
       "15                  Emmet Road             Various locations   \n",
       "16    Boulia - Tobermorey Road             122.00 - 130.00km   \n",
       "17    Boulia - Tobermorey Road             Various locations   \n",
       "18              Herbert Street             Various locations   \n",
       "\n",
       "    Indicative_total_cost   Local Government Contribution  \\\n",
       "0                   400000                         200000   \n",
       "1                    60000                          30000   \n",
       "2                   400000                         200000   \n",
       "3                   200000                         100000   \n",
       "4                   200000                         100000   \n",
       "5                   250000                         125000   \n",
       "6                   240000                         120000   \n",
       "7                   300000                         150000   \n",
       "8                   300000                         150000   \n",
       "9                  1750000                        1100000   \n",
       "10                   60000                          30000   \n",
       "11                  200000                         100000   \n",
       "12                  200000                         100000   \n",
       "13                  400000                         200000   \n",
       "14                   60000                          30000   \n",
       "15                  400000                         200000   \n",
       "16                  315000                         158000   \n",
       "17                  300000                         150000   \n",
       "18                   60000                          30000   \n",
       "\n",
       "    Queensland Government Contribution  Australian Government Contribution  \\\n",
       "0                               200000                                   0   \n",
       "1                                30000                                   0   \n",
       "2                               200000                                   0   \n",
       "3                               100000                                   0   \n",
       "4                               100000                                   0   \n",
       "5                               125000                                   0   \n",
       "6                               120000                                   0   \n",
       "7                               150000                                   0   \n",
       "8                               150000                                   0   \n",
       "9                               650000                                   0   \n",
       "10                               30000                                   0   \n",
       "11                              100000                                   0   \n",
       "12                              100000                                   0   \n",
       "13                              200000                                   0   \n",
       "14                               30000                                   0   \n",
       "15                              200000                                   0   \n",
       "16                              158000                                   0   \n",
       "17                              150000                                   0   \n",
       "18                               30000                                   0   \n",
       "\n",
       "    Estimated expenditure to 30 June 2016  2016-17 (Approved)  \\\n",
       "0                                       0                   0   \n",
       "1                                       0               30000   \n",
       "2                                       0                   0   \n",
       "3                                       0              100000   \n",
       "4                                       0              100000   \n",
       "5                                       0              125000   \n",
       "6                                       0                   0   \n",
       "7                                       0                   0   \n",
       "8                                       0                   0   \n",
       "9                                       0              650000   \n",
       "10                                      0                   0   \n",
       "11                                      0              100000   \n",
       "12                                      0              100000   \n",
       "13                                      0                   0   \n",
       "14                                      0               30000   \n",
       "15                                      0                   0   \n",
       "16                                      0              158000   \n",
       "17                                      0                   0   \n",
       "18                                      0               30000   \n",
       "\n",
       "    2017-18 (Approved)  2018-19 to 2019-2020 (Indicative)  \\\n",
       "0               200000                                  0   \n",
       "1                    0                                  0   \n",
       "2                    0                             200000   \n",
       "3                    0                                  0   \n",
       "4                    0                                  0   \n",
       "5                    0                                  0   \n",
       "6               120000                                  0   \n",
       "7                    0                             150000   \n",
       "8                    0                             150000   \n",
       "9                    0                                  0   \n",
       "10               30000                                  0   \n",
       "11                   0                                  0   \n",
       "12                   0                                  0   \n",
       "13              200000                                  0   \n",
       "14                   0                                  0   \n",
       "15                   0                             200000   \n",
       "16                   0                                  0   \n",
       "17              150000                                  0   \n",
       "18                   0                                  0   \n",
       "\n",
       "    Beyond (Indicative)                                  Work description  \\\n",
       "0                     0                             Rehabilitate pavement   \n",
       "1                     0                              Construct footpath/s   \n",
       "2                     0                             Rehabilitate pavement   \n",
       "3                     0                                Install floodway/s   \n",
       "4                     0                                    Widen and seal   \n",
       "5                     0                                 Install barrier/s   \n",
       "6                     0                                Install floodway/s   \n",
       "7                     0                                Install floodway/s   \n",
       "8                     0                                Install floodway/s   \n",
       "9                     0                            Re-sheet unsealed road   \n",
       "10                    0  Install, upgrade or replace roadside delineation   \n",
       "11                    0                                     Pave and seal   \n",
       "12                    0                                     Pave and seal   \n",
       "13                    0                            Re-sheet unsealed road   \n",
       "14                    0                              Construct footpath/s   \n",
       "15                    0                                     Pave and seal   \n",
       "16                    0                            Re-sheet unsealed road   \n",
       "17                    0                                     Pave and seal   \n",
       "18                    0                              Construct footpath/s   \n",
       "\n",
       "    Endnote  \n",
       "0       NaN  \n",
       "1       NaN  \n",
       "2       NaN  \n",
       "3       NaN  \n",
       "4       NaN  \n",
       "5       NaN  \n",
       "6       NaN  \n",
       "7       NaN  \n",
       "8       NaN  \n",
       "9       NaN  \n",
       "10      NaN  \n",
       "11      NaN  \n",
       "12      NaN  \n",
       "13      NaN  \n",
       "14      NaN  \n",
       "15      NaN  \n",
       "16      NaN  \n",
       "17      NaN  \n",
       "18      NaN  "
      ]
     },
     "execution_count": 52,
     "metadata": {},
     "output_type": "execute_result"
    }
   ],
   "source": [
    "import pandas as pd\n",
    "bus = pd.read_csv('data/TN/bus.csv')\n",
    "bus"
   ]
  },
  {
   "cell_type": "code",
   "execution_count": 66,
   "metadata": {},
   "outputs": [
    {
     "name": "stdout",
     "output_type": "stream",
     "text": [
      "<class 'pandas.core.frame.DataFrame'>\n",
      "RangeIndex: 19 entries, 0 to 18\n",
      "Data columns (total 17 columns):\n",
      " #   Column                                 Non-Null Count  Dtype  \n",
      "---  ------                                 --------------  -----  \n",
      " 0   District                               19 non-null     object \n",
      " 1   Local government                       19 non-null     object \n",
      " 2   Project number                         19 non-null     object \n",
      " 3   Category                               19 non-null     object \n",
      " 4   Project name/Location                  19 non-null     object \n",
      " 5   Location description                   19 non-null     object \n",
      " 6   Indicative_total_cost                  19 non-null     int64  \n",
      " 7   Local Government Contribution          19 non-null     int64  \n",
      " 8   Queensland Government Contribution     19 non-null     int64  \n",
      " 9   Australian Government Contribution     19 non-null     int64  \n",
      " 10  Estimated expenditure to 30 June 2016  19 non-null     int64  \n",
      " 11  2016-17 (Approved)                     19 non-null     int64  \n",
      " 12  2017-18 (Approved)                     19 non-null     int64  \n",
      " 13  2018-19 to 2019-2020 (Indicative)      19 non-null     int64  \n",
      " 14  Beyond (Indicative)                    19 non-null     int64  \n",
      " 15  Work description                       19 non-null     object \n",
      " 16  Endnote                                0 non-null      float64\n",
      "dtypes: float64(1), int64(9), object(7)\n",
      "memory usage: 2.6+ KB\n"
     ]
    }
   ],
   "source": [
    "bus.info()"
   ]
  },
  {
   "cell_type": "code",
   "execution_count": 63,
   "metadata": {},
   "outputs": [
    {
     "data": {
      "text/plain": [
       "District                                               Central West\n",
       "Local government                                         Barcaldine\n",
       "Project number                                          205/LGSR/28\n",
       "Category                                                       LGRD\n",
       "Project name/Location                    Barcaldine - Isisford Road\n",
       "Location description                              Various locations\n",
       "Indicative_total_cost                                        400000\n",
       "Local Government Contribution                                200000\n",
       "Queensland Government Contribution                           200000\n",
       "Australian Government Contribution                                0\n",
       "Estimated expenditure to 30 June 2016                             0\n",
       "2016-17 (Approved)                                                0\n",
       "2017-18 (Approved)                                                0\n",
       "2018-19 to 2019-2020 (Indicative)                            200000\n",
       "Beyond (Indicative)                                               0\n",
       "Work description                              Rehabilitate pavement\n",
       "Endnote                                                         NaN\n",
       "Name: 2, dtype: object"
      ]
     },
     "execution_count": 63,
     "metadata": {},
     "output_type": "execute_result"
    }
   ],
   "source": [
    "central_west = bus.loc[2]       # shows all value of third record of dataset\n",
    "central_west"
   ]
  },
  {
   "cell_type": "code",
   "execution_count": 68,
   "metadata": {},
   "outputs": [
    {
     "data": {
      "text/plain": [
       "Indicative_total_cost                    400000\n",
       "Local Government Contribution            200000\n",
       "Queensland Government Contribution       200000\n",
       "Australian Government Contribution            0\n",
       "Estimated expenditure to 30 June 2016         0\n",
       "2016-17 (Approved)                            0\n",
       "2017-18 (Approved)                            0\n",
       "2018-19 to 2019-2020 (Indicative)        200000\n",
       "Beyond (Indicative)                           0\n",
       "Name: 2, dtype: int64"
      ]
     },
     "execution_count": 68,
     "metadata": {},
     "output_type": "execute_result"
    }
   ],
   "source": [
    "central_west1 = central_west[6:15].astype(np.int64)     # split int64 data value of table\n",
    "central_west1"
   ]
  },
  {
   "cell_type": "code",
   "execution_count": 70,
   "metadata": {},
   "outputs": [
    {
     "data": {
      "text/plain": [
       "'Indicative_total_cost '"
      ]
     },
     "execution_count": 70,
     "metadata": {},
     "output_type": "execute_result"
    }
   ],
   "source": [
    "central_west1.idxmax()"
   ]
  },
  {
   "cell_type": "code",
   "execution_count": 71,
   "metadata": {},
   "outputs": [
    {
     "data": {
      "text/plain": [
       "'Australian Government Contribution'"
      ]
     },
     "execution_count": 71,
     "metadata": {},
     "output_type": "execute_result"
    }
   ],
   "source": [
    "central_west1.idxmin()"
   ]
  },
  {
   "cell_type": "code",
   "execution_count": 74,
   "metadata": {},
   "outputs": [
    {
     "data": {
      "image/png": "[encoded data removed]",
      "text/plain": [
       "<Figure size 432x288 with 1 Axes>"
      ]
     },
     "metadata": {},
     "output_type": "display_data"
    }
   ],
   "source": [
    "central_west1.plot.bar()\n",
    "plt.show()"
   ]
  },
  {
   "cell_type": "code",
   "execution_count": null,
   "metadata": {},
   "outputs": [],
   "source": []
  }
 ],
 "metadata": {
  "kernelspec": {
   "display_name": "Python 3",
   "language": "python",
   "name": "python3"
  },
  "language_info": {
   "codemirror_mode": {
    "name": "ipython",
    "version": 3
   },
   "file_extension": ".py",
   "mimetype": "text/x-python",
   "name": "python",
   "nbconvert_exporter": "python",
   "pygments_lexer": "ipython3",
   "version": "3.7.6"
  }
 },
 "nbformat": 4,
 "nbformat_minor": 4
}
