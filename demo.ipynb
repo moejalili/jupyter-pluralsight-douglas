{
 "cells": [
  {
   "cell_type": "markdown",
   "metadata": {},
   "source": [
    "__Demo example__"
   ]
  },
  {
   "cell_type": "code",
   "execution_count": 9,
   "metadata": {},
   "outputs": [],
   "source": [
    "messages = [\n",
    "    'The quick brown fox jumps over the lazy dog.',\n",
    "    'Now is the time for all good men to come to the aid of their country.',\n",
    "    'We the People of the United States, in Order to form a more perfect Union, establish Justice, insure domestic Tranquility, provide for the common defence, promote the general Welfare, and secure the Blessings of Liberty to ourselves and our Posterity, do ordain and establish this Constitution for the United States of America.',\n",
    "    \"\"\" Hey, diddle, diddle,\n",
    "    Hey Diddle Diddle,\n",
    "    The cat and the fiddle,\n",
    "    The cow jumped over the moon.\n",
    "    The little dog laughed,\n",
    "    To see such sport,\n",
    "    And the dish ran away with the spoon.\"\"\"\n",
    "]"
   ]
  },
  {
   "cell_type": "code",
   "execution_count": 6,
   "metadata": {},
   "outputs": [],
   "source": [
    "import string\n",
    "\n",
    "def strip_non_alpha(txt):\n",
    "    valid = string.ascii_letters + ' '                        # + '\\n'  Add later this for print(count_char('\\n', message[-1]))\n",
    "    return ''.join([l for l in txt if l in valid])"
   ]
  },
  {
   "cell_type": "code",
   "execution_count": 7,
   "metadata": {},
   "outputs": [],
   "source": [
    "def count_char(l, haystack):\n",
    "    return sum([l for n in haystack.lower() if n == l.lower()])"
   ]
  },
  {
   "cell_type": "code",
   "execution_count": 10,
   "metadata": {},
   "outputs": [
    {
     "data": {
      "text/plain": [
       "['The quick brown fox jumps over the lazy dog',\n",
       " 'Now is the time for all good men to come to the aid of their country',\n",
       " 'We the People of the United States in Order to form a more perfect Union establish Justice insure domestic Tranquility provide for the common defence promote the general Welfare and secure the Blessings of Liberty to ourselves and our Posterity do ordain and establish this Constitution for the United States of America',\n",
       " ' Hey diddle diddle    Hey Diddle Diddle    The cat and the fiddle    The cow jumped over the moon    The little dog laughed    To see such sport    And the dish ran away with the spoon']"
      ]
     },
     "execution_count": 10,
     "metadata": {},
     "output_type": "execute_result"
    }
   ],
   "source": [
    "cleaned_messages = [strip_non_alpha(message) for message in messages]\n",
    "#t_count = [count_char('t', message) for message in cleaned_messages]\n",
    "#mean_t_count = sum(t_count) / len(t_count)\n",
    "#print(mean_t_count)\n",
    "cleaned_messages"
   ]
  },
  {
   "cell_type": "code",
   "execution_count": 11,
   "metadata": {},
   "outputs": [],
   "source": [
    "# print(count_char('\\n', message[-1])) # Insert Run selected blew from menu for this line "
   ]
  },
  {
   "cell_type": "code",
   "execution_count": null,
   "metadata": {},
   "outputs": [],
   "source": []
  }
 ],
 "metadata": {
  "kernelspec": {
   "display_name": "Python 3",
   "language": "python",
   "name": "python3"
  },
  "language_info": {
   "codemirror_mode": {
    "name": "ipython",
    "version": 3
   },
   "file_extension": ".py",
   "mimetype": "text/x-python",
   "name": "python",
   "nbconvert_exporter": "python",
   "pygments_lexer": "ipython3",
   "version": "3.7.6"
  }
 },
 "nbformat": 4,
 "nbformat_minor": 4
}
