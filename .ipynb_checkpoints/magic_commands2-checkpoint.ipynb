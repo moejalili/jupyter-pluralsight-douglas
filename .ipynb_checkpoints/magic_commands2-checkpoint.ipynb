{
 "cells": [
  {
   "cell_type": "code",
   "execution_count": 16,
   "metadata": {},
   "outputs": [],
   "source": [
    "from IPython.core.magic import register_line_magic, register_cell_magic"
   ]
  },
  {
   "cell_type": "code",
   "execution_count": 17,
   "metadata": {},
   "outputs": [],
   "source": [
    "@register_line_magic        #  By applying the register_line_magic decorator to this function, I can use it as a line magic.\n",
    "def uppercase_magic(line):\n",
    "    return line.upper()"
   ]
  },
  {
   "cell_type": "markdown",
   "metadata": {},
   "source": [
    "Now I can use it just like any other built-in line magics"
   ]
  },
  {
   "cell_type": "code",
   "execution_count": 18,
   "metadata": {},
   "outputs": [
    {
     "data": {
      "text/plain": [
       "'HELLO WORLD    '"
      ]
     },
     "execution_count": 18,
     "metadata": {},
     "output_type": "execute_result"
    }
   ],
   "source": [
    "%uppercase_magic hello world    "
   ]
  },
  {
   "cell_type": "markdown",
   "metadata": {},
   "source": [
    "I could also write a cell magic in the same way. For this I'll need the __register_cell_magic__ decorator. "
   ]
  },
  {
   "cell_type": "markdown",
   "metadata": {},
   "source": [
    "Now, I'll write a function that will __count the number of words in a cell__. This function just uses the __re__ module from the Python standard library to write regular expressions to remove all of the non-alphanumeric characters from the cell, and then remove multiple whitespace characters. Then it just splits on whitespace to get the number of words. Notice that this function accepts both a line and a cell."
   ]
  },
  {
   "cell_type": "code",
   "execution_count": 19,
   "metadata": {},
   "outputs": [],
   "source": [
    "import re\n",
    "\n",
    "@register_cell_magic\n",
    "def count_magic(line, cell):\n",
    "    content = re.sub('[^A-Za-z0-9]', ' ', cell)     # remove all of the non-alphanumeric characters\n",
    "    content = re.sub('\\s+', ' ', content)           # remove multiple whitespace characters\n",
    "    return len(content.lower().split(' '))          # splits on whitespace to get the number of words"
   ]
  },
  {
   "cell_type": "code",
   "execution_count": 20,
   "metadata": {},
   "outputs": [
    {
     "data": {
      "text/plain": [
       "15"
      ]
     },
     "execution_count": 20,
     "metadata": {},
     "output_type": "execute_result"
    }
   ],
   "source": [
    "%%count_magic\n",
    "The quick brown dog,\n",
    "jumped over the lazy fox.\n",
    "Is that how it going?"
   ]
  },
  {
   "cell_type": "markdown",
   "metadata": {},
   "source": [
    "__My Quetion__ : When we use __Line Magic__ and when we use __Cell Magic__?"
   ]
  },
  {
   "cell_type": "markdown",
   "metadata": {},
   "source": [
    "__Answer:__"
   ]
  },
  {
   "cell_type": "markdown",
   "metadata": {},
   "source": [
    "But, it's going to be inconvenient to use my new magic commands in a new notebook. There are two ways around this. __First__, I could put the code for the magic command in a new file, __Second__ I can load it with the load_ext_magic command. That's right, there's a magic command to load magic commands. "
   ]
  },
  {
   "cell_type": "markdown",
   "metadata": {},
   "source": [
    "## See the remain in the next section on magic_commands3 file  --->"
   ]
  },
  {
   "cell_type": "code",
   "execution_count": null,
   "metadata": {},
   "outputs": [],
   "source": []
  }
 ],
 "metadata": {
  "kernelspec": {
   "display_name": "Python 3",
   "language": "python",
   "name": "python3"
  },
  "language_info": {
   "codemirror_mode": {
    "name": "ipython",
    "version": 3
   },
   "file_extension": ".py",
   "mimetype": "text/x-python",
   "name": "python",
   "nbconvert_exporter": "python",
   "pygments_lexer": "ipython3",
   "version": "3.7.6"
  }
 },
 "nbformat": 4,
 "nbformat_minor": 4
}
