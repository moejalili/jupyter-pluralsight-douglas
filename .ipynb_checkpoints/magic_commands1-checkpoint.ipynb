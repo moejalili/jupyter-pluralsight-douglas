{
 "cells": [
  {
   "cell_type": "markdown",
   "metadata": {},
   "source": [
    "# `Magic commands`"
   ]
  },
  {
   "cell_type": "markdown",
   "metadata": {},
   "source": [
    "* IPython concepts carries over to Jupyter Notebook - Similar to shell commands, but specific to Jupyter Notebook"
   ]
  },
  {
   "cell_type": "markdown",
   "metadata": {},
   "source": [
    "* Prefixed with __%__ to distinguish them from shell commands and Python statements"
   ]
  },
  {
   "cell_type": "markdown",
   "metadata": {},
   "source": [
    "* works with inline help"
   ]
  },
  {
   "cell_type": "markdown",
   "metadata": {},
   "source": [
    "__%lsmagic__ - list available magic commands"
   ]
  },
  {
   "cell_type": "markdown",
   "metadata": {},
   "source": [
    "__%history__ - manipulate session history"
   ]
  },
  {
   "cell_type": "markdown",
   "metadata": {},
   "source": [
    "__%load__ / __%run__ - execute code in Python files"
   ]
  },
  {
   "cell_type": "markdown",
   "metadata": {},
   "source": [
    "__%alias__ - define a name for a system command"
   ]
  },
  {
   "cell_type": "markdown",
   "metadata": {},
   "source": [
    "__%reset__ - restores defaults"
   ]
  },
  {
   "cell_type": "code",
   "execution_count": 3,
   "metadata": {},
   "outputs": [
    {
     "data": {
      "application/json": {
       "cell": {
        "!": "OSMagics",
        "HTML": "Other",
        "SVG": "Other",
        "bash": "Other",
        "capture": "ExecutionMagics",
        "debug": "ExecutionMagics",
        "file": "Other",
        "html": "DisplayMagics",
        "javascript": "DisplayMagics",
        "js": "DisplayMagics",
        "latex": "DisplayMagics",
        "markdown": "DisplayMagics",
        "perl": "Other",
        "prun": "ExecutionMagics",
        "pypy": "Other",
        "python": "Other",
        "python2": "Other",
        "python3": "Other",
        "ruby": "Other",
        "script": "ScriptMagics",
        "sh": "Other",
        "svg": "DisplayMagics",
        "sx": "OSMagics",
        "system": "OSMagics",
        "time": "ExecutionMagics",
        "timeit": "ExecutionMagics",
        "writefile": "OSMagics"
       },
       "line": {
        "alias": "OSMagics",
        "alias_magic": "BasicMagics",
        "autoawait": "AsyncMagics",
        "autocall": "AutoMagics",
        "automagic": "AutoMagics",
        "autosave": "KernelMagics",
        "bookmark": "OSMagics",
        "cat": "Other",
        "cd": "OSMagics",
        "clear": "KernelMagics",
        "colors": "BasicMagics",
        "conda": "PackagingMagics",
        "config": "ConfigMagics",
        "connect_info": "KernelMagics",
        "cp": "Other",
        "debug": "ExecutionMagics",
        "dhist": "OSMagics",
        "dirs": "OSMagics",
        "doctest_mode": "BasicMagics",
        "ed": "Other",
        "edit": "KernelMagics",
        "env": "OSMagics",
        "gui": "BasicMagics",
        "hist": "Other",
        "history": "HistoryMagics",
        "killbgscripts": "ScriptMagics",
        "ldir": "Other",
        "less": "KernelMagics",
        "lf": "Other",
        "lk": "Other",
        "ll": "Other",
        "load": "CodeMagics",
        "load_ext": "ExtensionMagics",
        "loadpy": "CodeMagics",
        "logoff": "LoggingMagics",
        "logon": "LoggingMagics",
        "logstart": "LoggingMagics",
        "logstate": "LoggingMagics",
        "logstop": "LoggingMagics",
        "ls": "Other",
        "lsmagic": "BasicMagics",
        "lx": "Other",
        "macro": "ExecutionMagics",
        "magic": "BasicMagics",
        "man": "KernelMagics",
        "matplotlib": "PylabMagics",
        "mkdir": "Other",
        "more": "KernelMagics",
        "mv": "Other",
        "notebook": "BasicMagics",
        "page": "BasicMagics",
        "pastebin": "CodeMagics",
        "pdb": "ExecutionMagics",
        "pdef": "NamespaceMagics",
        "pdoc": "NamespaceMagics",
        "pfile": "NamespaceMagics",
        "pinfo": "NamespaceMagics",
        "pinfo2": "NamespaceMagics",
        "pip": "PackagingMagics",
        "popd": "OSMagics",
        "pprint": "BasicMagics",
        "precision": "BasicMagics",
        "prun": "ExecutionMagics",
        "psearch": "NamespaceMagics",
        "psource": "NamespaceMagics",
        "pushd": "OSMagics",
        "pwd": "OSMagics",
        "pycat": "OSMagics",
        "pylab": "PylabMagics",
        "qtconsole": "KernelMagics",
        "quickref": "BasicMagics",
        "recall": "HistoryMagics",
        "rehashx": "OSMagics",
        "reload_ext": "ExtensionMagics",
        "rep": "Other",
        "rerun": "HistoryMagics",
        "reset": "NamespaceMagics",
        "reset_selective": "NamespaceMagics",
        "rm": "Other",
        "rmdir": "Other",
        "run": "ExecutionMagics",
        "save": "CodeMagics",
        "sc": "OSMagics",
        "set_env": "OSMagics",
        "store": "StoreMagics",
        "sx": "OSMagics",
        "system": "OSMagics",
        "tb": "ExecutionMagics",
        "time": "ExecutionMagics",
        "timeit": "ExecutionMagics",
        "unalias": "OSMagics",
        "unload_ext": "ExtensionMagics",
        "who": "NamespaceMagics",
        "who_ls": "NamespaceMagics",
        "whos": "NamespaceMagics",
        "xdel": "NamespaceMagics",
        "xmode": "BasicMagics"
       }
      },
      "text/plain": [
       "Available line magics:\n",
       "%alias  %alias_magic  %autoawait  %autocall  %automagic  %autosave  %bookmark  %cat  %cd  %clear  %colors  %conda  %config  %connect_info  %cp  %debug  %dhist  %dirs  %doctest_mode  %ed  %edit  %env  %gui  %hist  %history  %killbgscripts  %ldir  %less  %lf  %lk  %ll  %load  %load_ext  %loadpy  %logoff  %logon  %logstart  %logstate  %logstop  %ls  %lsmagic  %lx  %macro  %magic  %man  %matplotlib  %mkdir  %more  %mv  %notebook  %page  %pastebin  %pdb  %pdef  %pdoc  %pfile  %pinfo  %pinfo2  %pip  %popd  %pprint  %precision  %prun  %psearch  %psource  %pushd  %pwd  %pycat  %pylab  %qtconsole  %quickref  %recall  %rehashx  %reload_ext  %rep  %rerun  %reset  %reset_selective  %rm  %rmdir  %run  %save  %sc  %set_env  %store  %sx  %system  %tb  %time  %timeit  %unalias  %unload_ext  %who  %who_ls  %whos  %xdel  %xmode\n",
       "\n",
       "Available cell magics:\n",
       "%%!  %%HTML  %%SVG  %%bash  %%capture  %%debug  %%file  %%html  %%javascript  %%js  %%latex  %%markdown  %%perl  %%prun  %%pypy  %%python  %%python2  %%python3  %%ruby  %%script  %%sh  %%svg  %%sx  %%system  %%time  %%timeit  %%writefile\n",
       "\n",
       "Automagic is ON, % prefix IS NOT needed for line magics."
      ]
     },
     "execution_count": 3,
     "metadata": {},
     "output_type": "execute_result"
    }
   ],
   "source": [
    "%lsmagic"
   ]
  },
  {
   "cell_type": "code",
   "execution_count": 8,
   "metadata": {},
   "outputs": [
    {
     "name": "stdout",
     "output_type": "stream",
     "text": [
      "Writing utils.py\n"
     ]
    }
   ],
   "source": [
    "%%writefile utils.py\n",
    "import random\n",
    "import string\n",
    "\n",
    "def random_password(l):\n",
    "    return ''.join(random.choices(string.ascii_letters, k = l))"
   ]
  },
  {
   "cell_type": "code",
   "execution_count": 9,
   "metadata": {},
   "outputs": [
    {
     "data": {
      "text/plain": [
       "'dniNnfZlvqEXjLCC'"
      ]
     },
     "execution_count": 9,
     "metadata": {},
     "output_type": "execute_result"
    }
   ],
   "source": [
    "random_password(16)"
   ]
  },
  {
   "cell_type": "code",
   "execution_count": 10,
   "metadata": {},
   "outputs": [
    {
     "name": "stdout",
     "output_type": "stream",
     "text": [
      "\u001b[34mApplications\u001b[m\u001b[m/                          demo.ipynb\n",
      "\u001b[34mCreative Cloud Files\u001b[m\u001b[m/                  get-pip.py\n",
      "\u001b[34mDesktop\u001b[m\u001b[m/                               hello_python.ipynb\n",
      "\u001b[34mDocuments\u001b[m\u001b[m/                             magic_commands.ipynb\n",
      "\u001b[34mDownloads\u001b[m\u001b[m/                             \u001b[34mopt\u001b[m\u001b[m/\n",
      "\u001b[34mLibrary\u001b[m\u001b[m/                               shell_commands.ipynb\n",
      "\u001b[34mMovies\u001b[m\u001b[m/                                shortcuts.ipynb\n",
      "\u001b[34mMusic\u001b[m\u001b[m/                                 \u001b[34msmhj63@gmail.com Creative Cloud Files\u001b[m\u001b[m/\n",
      "\u001b[34mPictures\u001b[m\u001b[m/                              styling_cell_output.ipynb\n",
      "\u001b[34mPublic\u001b[m\u001b[m/                                ugly.css\n",
      "README.txt                             utils.py\n",
      "\u001b[34mdata\u001b[m\u001b[m/\n"
     ]
    }
   ],
   "source": [
    "ls"
   ]
  },
  {
   "cell_type": "code",
   "execution_count": 11,
   "metadata": {},
   "outputs": [
    {
     "name": "stdout",
     "output_type": "stream",
     "text": [
      "import random\n",
      "import string\n",
      "\n",
      "def random_password(l):\n",
      "    return ''.join(random.choices(string.ascii_letters, k = l))\n"
     ]
    }
   ],
   "source": [
    "!cat utils.py"
   ]
  },
  {
   "cell_type": "code",
   "execution_count": 12,
   "metadata": {},
   "outputs": [
    {
     "data": {
      "text/plain": [
       "\u001b[0;31mDocstring:\u001b[0m\n",
       "::\n",
       "\n",
       "  %writefile [-a] filename\n",
       "\n",
       "Write the contents of the cell to a file.\n",
       "\n",
       "The file will be overwritten unless the -a (--append) flag is specified.\n",
       "\n",
       "positional arguments:\n",
       "  filename      file to write\n",
       "\n",
       "optional arguments:\n",
       "  -a, --append  Append contents of the cell to an existing file. The file will\n",
       "                be created if it does not exist.\n",
       "\u001b[0;31mFile:\u001b[0m      ~/opt/anaconda3/lib/python3.7/site-packages/IPython/core/magics/osm.py\n"
      ]
     },
     "metadata": {},
     "output_type": "display_data"
    }
   ],
   "source": [
    "%%writefile?"
   ]
  },
  {
   "cell_type": "code",
   "execution_count": 13,
   "metadata": {},
   "outputs": [
    {
     "data": {
      "text/plain": [
       "\u001b[0;31mDocstring:\u001b[0m\n",
       "::\n",
       "\n",
       "  %history [-n] [-o] [-p] [-t] [-f FILENAME] [-g [PATTERN [PATTERN ...]]]\n",
       "               [-l [LIMIT]] [-u]\n",
       "               [range [range ...]]\n",
       "\n",
       "Print input history (_i<n> variables), with most recent last.\n",
       "\n",
       "By default, input history is printed without line numbers so it can be\n",
       "directly pasted into an editor. Use -n to show them.\n",
       "\n",
       "By default, all input history from the current session is displayed.\n",
       "Ranges of history can be indicated using the syntax:\n",
       "\n",
       "``4``\n",
       "    Line 4, current session\n",
       "``4-6``\n",
       "    Lines 4-6, current session\n",
       "``243/1-5``\n",
       "    Lines 1-5, session 243\n",
       "``~2/7``\n",
       "    Line 7, session 2 before current\n",
       "``~8/1-~6/5``\n",
       "    From the first line of 8 sessions ago, to the fifth line of 6\n",
       "    sessions ago.\n",
       "\n",
       "Multiple ranges can be entered, separated by spaces\n",
       "\n",
       "The same syntax is used by %macro, %save, %edit, %rerun\n",
       "\n",
       "Examples\n",
       "--------\n",
       "::\n",
       "\n",
       "  In [6]: %history -n 4-6\n",
       "  4:a = 12\n",
       "  5:print a**2\n",
       "  6:%history -n 4-6\n",
       "\n",
       "positional arguments:\n",
       "  range\n",
       "\n",
       "optional arguments:\n",
       "  -n                    print line numbers for each input. This feature is\n",
       "                        only available if numbered prompts are in use.\n",
       "  -o                    also print outputs for each input.\n",
       "  -p                    print classic '>>>' python prompts before each input.\n",
       "                        This is useful for making documentation, and in\n",
       "                        conjunction with -o, for producing doctest-ready\n",
       "                        output.\n",
       "  -t                    print the 'translated' history, as IPython understands\n",
       "                        it. IPython filters your input and converts it all\n",
       "                        into valid Python source before executing it (things\n",
       "                        like magics or aliases are turned into function calls,\n",
       "                        for example). With this option, you'll see the native\n",
       "                        history instead of the user-entered version: '%cd /'\n",
       "                        will be seen as 'get_ipython().run_line_magic(\"cd\",\n",
       "                        \"/\")' instead of '%cd /'.\n",
       "  -f FILENAME           FILENAME: instead of printing the output to the\n",
       "                        screen, redirect it to the given file. The file is\n",
       "                        always overwritten, though *when it can*, IPython asks\n",
       "                        for confirmation first. In particular, running the\n",
       "                        command 'history -f FILENAME' from the IPython\n",
       "                        Notebook interface will replace FILENAME even if it\n",
       "                        already exists *without* confirmation.\n",
       "  -g <[PATTERN [PATTERN ...]]>\n",
       "                        treat the arg as a glob pattern to search for in\n",
       "                        (full) history. This includes the saved history\n",
       "                        (almost all commands ever written). The pattern may\n",
       "                        contain '?' to match one unknown character and '*' to\n",
       "                        match any number of unknown characters. Use '%hist -g'\n",
       "                        to show full saved history (may be very long).\n",
       "  -l <[LIMIT]>          get the last n lines from all sessions. Specify n as a\n",
       "                        single arg, or the default is the last 10 lines.\n",
       "  -u                    when searching history using `-g`, show only unique\n",
       "                        history.\n",
       "\u001b[0;31mFile:\u001b[0m      ~/opt/anaconda3/lib/python3.7/site-packages/IPython/core/magics/history.py\n"
      ]
     },
     "metadata": {},
     "output_type": "display_data"
    }
   ],
   "source": [
    "%history?"
   ]
  },
  {
   "cell_type": "code",
   "execution_count": 14,
   "metadata": {},
   "outputs": [
    {
     "name": "stdout",
     "output_type": "stream",
     "text": [
      "   1: %Ismagic\n",
      "   2: %lsmagic\n",
      "   3: %lsmagic\n",
      "   4:\n",
      "import random\n",
      "import string\n",
      "\n",
      "def random_password1(l):\n",
      "    return ''.join(random.choices(string.ascii_letters, k = l))\n",
      "   5: random_password(16)\n",
      "   6:\n",
      "import random\n",
      "import string\n",
      "\n",
      "def random_password(l):\n",
      "    return ''.join(random.choices(string.ascii_letters, k = l))\n",
      "   7: random_password(16)\n",
      "   8:\n",
      "%%writefile utils.py\n",
      "import random\n",
      "import string\n",
      "\n",
      "def random_password(l):\n",
      "    return ''.join(random.choices(string.ascii_letters, k = l))\n",
      "   9: random_password(16)\n",
      "  10: ls\n",
      "  11: !cat utils.py\n",
      "  12: %%writefile?\n",
      "  13: %history?\n",
      "  14: %history -n\n"
     ]
    }
   ],
   "source": [
    "%history -n"
   ]
  },
  {
   "cell_type": "code",
   "execution_count": 15,
   "metadata": {},
   "outputs": [
    {
     "name": "stdout",
     "output_type": "stream",
     "text": [
      "   1: %Ismagic\n",
      "   2: %lsmagic\n",
      "Available line magics:\n",
      "%alias  %alias_magic  %autoawait  %autocall  %automagic  %autosave  %bookmark  %cat  %cd  %clear  %colors  %conda  %config  %connect_info  %cp  %debug  %dhist  %dirs  %doctest_mode  %ed  %edit  %env  %gui  %hist  %history  %killbgscripts  %ldir  %less  %lf  %lk  %ll  %load  %load_ext  %loadpy  %logoff  %logon  %logstart  %logstate  %logstop  %ls  %lsmagic  %lx  %macro  %magic  %man  %matplotlib  %mkdir  %more  %mv  %notebook  %page  %pastebin  %pdb  %pdef  %pdoc  %pfile  %pinfo  %pinfo2  %pip  %popd  %pprint  %precision  %prun  %psearch  %psource  %pushd  %pwd  %pycat  %pylab  %qtconsole  %quickref  %recall  %rehashx  %reload_ext  %rep  %rerun  %reset  %reset_selective  %rm  %rmdir  %run  %save  %sc  %set_env  %store  %sx  %system  %tb  %time  %timeit  %unalias  %unload_ext  %who  %who_ls  %whos  %xdel  %xmode\n",
      "\n",
      "Available cell magics:\n",
      "%%!  %%HTML  %%SVG  %%bash  %%capture  %%debug  %%file  %%html  %%javascript  %%js  %%latex  %%markdown  %%perl  %%prun  %%pypy  %%python  %%python2  %%python3  %%ruby  %%script  %%sh  %%svg  %%sx  %%system  %%time  %%timeit  %%writefile\n",
      "\n",
      "Automagic is ON, % prefix IS NOT needed for line magics.\n",
      "   3: %lsmagic\n",
      "Available line magics:\n",
      "%alias  %alias_magic  %autoawait  %autocall  %automagic  %autosave  %bookmark  %cat  %cd  %clear  %colors  %conda  %config  %connect_info  %cp  %debug  %dhist  %dirs  %doctest_mode  %ed  %edit  %env  %gui  %hist  %history  %killbgscripts  %ldir  %less  %lf  %lk  %ll  %load  %load_ext  %loadpy  %logoff  %logon  %logstart  %logstate  %logstop  %ls  %lsmagic  %lx  %macro  %magic  %man  %matplotlib  %mkdir  %more  %mv  %notebook  %page  %pastebin  %pdb  %pdef  %pdoc  %pfile  %pinfo  %pinfo2  %pip  %popd  %pprint  %precision  %prun  %psearch  %psource  %pushd  %pwd  %pycat  %pylab  %qtconsole  %quickref  %recall  %rehashx  %reload_ext  %rep  %rerun  %reset  %reset_selective  %rm  %rmdir  %run  %save  %sc  %set_env  %store  %sx  %system  %tb  %time  %timeit  %unalias  %unload_ext  %who  %who_ls  %whos  %xdel  %xmode\n",
      "\n",
      "Available cell magics:\n",
      "%%!  %%HTML  %%SVG  %%bash  %%capture  %%debug  %%file  %%html  %%javascript  %%js  %%latex  %%markdown  %%perl  %%prun  %%pypy  %%python  %%python2  %%python3  %%ruby  %%script  %%sh  %%svg  %%sx  %%system  %%time  %%timeit  %%writefile\n",
      "\n",
      "Automagic is ON, % prefix IS NOT needed for line magics.\n",
      "   4:\n",
      "import random\n",
      "import string\n",
      "\n",
      "def random_password1(l):\n",
      "    return ''.join(random.choices(string.ascii_letters, k = l))\n",
      "   5: random_password(16)\n",
      "   6:\n",
      "import random\n",
      "import string\n",
      "\n",
      "def random_password(l):\n",
      "    return ''.join(random.choices(string.ascii_letters, k = l))\n",
      "   7: random_password(16)\n",
      "'cztLkYOkKfecPJwB'\n",
      "   8:\n",
      "%%writefile utils.py\n",
      "import random\n",
      "import string\n",
      "\n",
      "def random_password(l):\n",
      "    return ''.join(random.choices(string.ascii_letters, k = l))\n",
      "   9: random_password(16)\n",
      "'dniNnfZlvqEXjLCC'\n",
      "  10: ls\n",
      "  11: !cat utils.py\n",
      "  12: %%writefile?\n",
      "  13: %history?\n",
      "  14: %history -n\n",
      "  15: %history -no\n"
     ]
    }
   ],
   "source": [
    "%history -no"
   ]
  },
  {
   "cell_type": "code",
   "execution_count": 16,
   "metadata": {},
   "outputs": [
    {
     "name": "stdout",
     "output_type": "stream",
     "text": [
      "   6:\n",
      "import random\n",
      "import string\n",
      "\n",
      "def random_password(l):\n",
      "    return ''.join(random.choices(string.ascii_letters, k = l))\n",
      "   7: random_password(16)\n",
      "   8:\n",
      "%%writefile utils.py\n",
      "import random\n",
      "import string\n",
      "\n",
      "def random_password(l):\n",
      "    return ''.join(random.choices(string.ascii_letters, k = l))\n",
      "   9: random_password(16)\n",
      "  10: ls\n",
      "  11: !cat utils.py\n",
      "  12: %%writefile?\n",
      "  13: %history?\n",
      "  14: %history -n\n",
      "  15: %history -no\n"
     ]
    }
   ],
   "source": [
    "%history -n -l 10"
   ]
  },
  {
   "cell_type": "code",
   "execution_count": 17,
   "metadata": {},
   "outputs": [],
   "source": [
    "%history -n -l 10 -f session_history.txt"
   ]
  },
  {
   "cell_type": "code",
   "execution_count": 18,
   "metadata": {},
   "outputs": [
    {
     "name": "stdout",
     "output_type": "stream",
     "text": [
      "\u001b[34mApplications\u001b[m\u001b[m                          demo.ipynb\n",
      "\u001b[34mCreative Cloud Files\u001b[m\u001b[m                  get-pip.py\n",
      "\u001b[34mDesktop\u001b[m\u001b[m                               hello_python.ipynb\n",
      "\u001b[34mDocuments\u001b[m\u001b[m                             magic_commands.ipynb\n",
      "\u001b[34mDownloads\u001b[m\u001b[m                             \u001b[34mopt\u001b[m\u001b[m\n",
      "\u001b[34mLibrary\u001b[m\u001b[m                               session_history.txt\n",
      "\u001b[34mMovies\u001b[m\u001b[m                                shell_commands.ipynb\n",
      "\u001b[34mMusic\u001b[m\u001b[m                                 shortcuts.ipynb\n",
      "\u001b[34mPictures\u001b[m\u001b[m                              \u001b[34msmhj63@gmail.com Creative Cloud Files\u001b[m\u001b[m\n",
      "\u001b[34mPublic\u001b[m\u001b[m                                styling_cell_output.ipynb\n",
      "README.txt                            ugly.css\n",
      "\u001b[34mdata\u001b[m\u001b[m                                  utils.py\n"
     ]
    }
   ],
   "source": [
    "!ls"
   ]
  },
  {
   "cell_type": "code",
   "execution_count": 19,
   "metadata": {},
   "outputs": [
    {
     "name": "stdout",
     "output_type": "stream",
     "text": [
      "   7: random_password(16)\n",
      "   8:\n",
      "%%writefile utils.py\n",
      "import random\n",
      "import string\n",
      "\n",
      "def random_password(l):\n",
      "    return ''.join(random.choices(string.ascii_letters, k = l))\n",
      "   9: random_password(16)\n",
      "  10: ls\n",
      "  11: !cat utils.py\n",
      "  12: %%writefile?\n",
      "  13: %history?\n",
      "  14: %history -n\n",
      "  15: %history -no\n",
      "  16: %history -n -l 10\n"
     ]
    }
   ],
   "source": [
    "!cat session_history.txt"
   ]
  },
  {
   "cell_type": "markdown",
   "metadata": {},
   "source": [
    "#### we typed here:  %load load-demo.py "
   ]
  },
  {
   "cell_type": "code",
   "execution_count": 3,
   "metadata": {},
   "outputs": [
    {
     "name": "stdout",
     "output_type": "stream",
     "text": [
      "This file will be loaded, but not run\n"
     ]
    }
   ],
   "source": [
    "# %load load-demo.py\n",
    "message = 'This file will be loaded, but not run'\n",
    "\n",
    "def print_message():\n",
    "    print(message)\n",
    "    \n",
    "print_message()"
   ]
  },
  {
   "cell_type": "code",
   "execution_count": 4,
   "metadata": {},
   "outputs": [
    {
     "data": {
      "text/plain": [
       "'This file will be loaded, but not run'"
      ]
     },
     "execution_count": 4,
     "metadata": {},
     "output_type": "execute_result"
    }
   ],
   "source": [
    "message         #you should run box above first again then this line otherwise you get error"
   ]
  },
  {
   "cell_type": "code",
   "execution_count": 5,
   "metadata": {},
   "outputs": [
    {
     "name": "stdout",
     "output_type": "stream",
     "text": [
      "This file is run after it is loaded\n"
     ]
    }
   ],
   "source": [
    "%run run-demo.py"
   ]
  },
  {
   "cell_type": "code",
   "execution_count": 7,
   "metadata": {},
   "outputs": [
    {
     "data": {
      "text/plain": [
       "'This file is run after it is loaded'"
      ]
     },
     "execution_count": 7,
     "metadata": {},
     "output_type": "execute_result"
    }
   ],
   "source": [
    "message"
   ]
  },
  {
   "cell_type": "code",
   "execution_count": 8,
   "metadata": {},
   "outputs": [],
   "source": [
    "%alias show_py_files ls -l *.py      # making a new statement for showing py files"
   ]
  },
  {
   "cell_type": "code",
   "execution_count": 9,
   "metadata": {},
   "outputs": [
    {
     "name": "stdout",
     "output_type": "stream",
     "text": [
      "-rw-r--r--  1 Med1  staff  1807342 Apr 11 21:36 get-pip.py\n",
      "-rw-r--r--  1 Med1  staff      111 Apr 20 22:57 load-demo.py\n",
      "-rw-r--r--  1 Med1  staff      109 Apr 20 22:58 run-demo.py\n",
      "-rw-r--r--  1 Med1  staff      117 Apr 17 22:44 utils.py\n"
     ]
    }
   ],
   "source": [
    "%show_py_files"
   ]
  },
  {
   "cell_type": "code",
   "execution_count": 10,
   "metadata": {},
   "outputs": [],
   "source": [
    "%alias filter_by_extension ls -l *.%s       # making a new statement for filtering by extension"
   ]
  },
  {
   "cell_type": "code",
   "execution_count": 11,
   "metadata": {},
   "outputs": [
    {
     "name": "stdout",
     "output_type": "stream",
     "text": [
      "-rw-r--r--  1 Med1  staff   64 Apr 17 12:55 README.txt\n",
      "-rw-r--r--  1 Med1  staff  321 Apr 17 23:10 session_history.txt\n"
     ]
    }
   ],
   "source": [
    "%filter_by_extension txt"
   ]
  },
  {
   "cell_type": "code",
   "execution_count": 12,
   "metadata": {},
   "outputs": [
    {
     "name": "stdin",
     "output_type": "stream",
     "text": [
      "Once deleted, variables cannot be recovered. Proceed (y/[n])?  y\n"
     ]
    }
   ],
   "source": [
    "%reset                               # for removing all of alias and all of the loaded variations and functions"
   ]
  },
  {
   "cell_type": "code",
   "execution_count": 13,
   "metadata": {},
   "outputs": [
    {
     "name": "stdout",
     "output_type": "stream",
     "text": [
      "Total number of aliases: 12\n"
     ]
    },
    {
     "data": {
      "text/plain": [
       "[('cat', 'cat'),\n",
       " ('cp', 'cp'),\n",
       " ('ldir', 'ls -F -G -l %l | grep /$'),\n",
       " ('lf', 'ls -F -l -G %l | grep ^-'),\n",
       " ('lk', 'ls -F -l -G %l | grep ^l'),\n",
       " ('ll', 'ls -F -l -G'),\n",
       " ('ls', 'ls -F -G'),\n",
       " ('lx', 'ls -F -l -G %l | grep ^-..x'),\n",
       " ('mkdir', 'mkdir'),\n",
       " ('mv', 'mv'),\n",
       " ('rm', 'rm'),\n",
       " ('rmdir', 'rmdir')]"
      ]
     },
     "execution_count": 13,
     "metadata": {},
     "output_type": "execute_result"
    }
   ],
   "source": [
    "%alias"
   ]
  },
  {
   "cell_type": "code",
   "execution_count": 14,
   "metadata": {},
   "outputs": [
    {
     "ename": "NameError",
     "evalue": "name 'message' is not defined",
     "output_type": "error",
     "traceback": [
      "\u001b[0;31m---------------------------------------------------------------------------\u001b[0m",
      "\u001b[0;31mNameError\u001b[0m                                 Traceback (most recent call last)",
      "\u001b[0;32m<ipython-input-14-1133e3acf0a4>\u001b[0m in \u001b[0;36m<module>\u001b[0;34m\u001b[0m\n\u001b[0;32m----> 1\u001b[0;31m \u001b[0mmessage\u001b[0m\u001b[0;34m\u001b[0m\u001b[0;34m\u001b[0m\u001b[0m\n\u001b[0m",
      "\u001b[0;31mNameError\u001b[0m: name 'message' is not defined"
     ]
    }
   ],
   "source": [
    "message            # already deleted by %reset"
   ]
  },
  {
   "cell_type": "markdown",
   "metadata": {},
   "source": [
    "### More `Magic commands` are in Documentations"
   ]
  }
 ],
 "metadata": {
  "kernelspec": {
   "display_name": "Python 3",
   "language": "python",
   "name": "python3"
  },
  "language_info": {
   "codemirror_mode": {
    "name": "ipython",
    "version": 3
   },
   "file_extension": ".py",
   "mimetype": "text/x-python",
   "name": "python",
   "nbconvert_exporter": "python",
   "pygments_lexer": "ipython3",
   "version": "3.7.6"
  }
 },
 "nbformat": 4,
 "nbformat_minor": 4
}
