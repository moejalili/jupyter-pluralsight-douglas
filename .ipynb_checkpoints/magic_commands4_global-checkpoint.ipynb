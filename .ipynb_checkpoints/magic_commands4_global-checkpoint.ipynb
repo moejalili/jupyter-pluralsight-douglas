{
 "cells": [
  {
   "cell_type": "markdown",
   "metadata": {},
   "source": [
    "Instruction :  Now we'll open a new notebook, and in the first cell I'll run the load_ext_magic, and I can use the count_magic cell magic. This method is great for loading specific project magics, but what if you have a really useful custom magic that you want to load into every notebook automatically. Jupyter Notebook will look in the folder for your user profile and execute any code files in it when starting up a new server. On the Mac, the folder is in. ipython/profile_default/startup under the home folder for my user profile. On Windows and Linux, the user profiles may be stored in different places according to the configuration of your system. In this folder is a readme file, which recommends prefixing the names of the files with a numeric value as the files will be loaded in lexicographical order, so in this way you can control the order of execution. I'm going to copy the original version of the magic command, the one with the decorator. Then I'll paste that into a new file called my_magic. py. Actually, I'm going to call it my_global_magic. py and I'm going to prefix it with a 00. In addition, I have to add the import for the register_cell_magic. Now I'm going to open up a terminal and I'm going to move this file into the startup folder. For the file to be loaded and the new magic command to be available, I'll need to restart the Jupyter Notebook server. Now I'll start a new notebook, and I'll be able to use the count_magic command again. The magic command is available for all to use. "
   ]
  },
  {
   "cell_type": "code",
   "execution_count": 2,
   "metadata": {},
   "outputs": [
    {
     "data": {
      "text/plain": [
       "10"
      ]
     },
     "execution_count": 2,
     "metadata": {},
     "output_type": "execute_result"
    }
   ],
   "source": [
    "%%count_magic           # The magic command is available for all to use. \n",
    "Testing one, two, three.\n",
    "Can you count me now?"
   ]
  }
 ],
 "metadata": {
  "kernelspec": {
   "display_name": "Python 3",
   "language": "python",
   "name": "python3"
  },
  "language_info": {
   "codemirror_mode": {
    "name": "ipython",
    "version": 3
   },
   "file_extension": ".py",
   "mimetype": "text/x-python",
   "name": "python",
   "nbconvert_exporter": "python",
   "pygments_lexer": "ipython3",
   "version": "3.7.6"
  }
 },
 "nbformat": 4,
 "nbformat_minor": 4
}
