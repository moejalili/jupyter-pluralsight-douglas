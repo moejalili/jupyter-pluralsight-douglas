{
 "cells": [
  {
   "cell_type": "code",
   "execution_count": null,
   "metadata": {},
   "outputs": [],
   "source": [
    "# %load my_magic.py\n",
    "import re\n",
    "\n",
    "# @register_cell_magic       remove this the decoratoe because there is no need for this scenario \n",
    "def count_magic(line, cell):\n",
    "    content = re.sub('[^A-Za-z0-9]', ' ', cell)     # remove all of the non-alphanumeric characters\n",
    "    content = re.sub('\\s+', ' ', content)           # remove multiple whitespace characters\n",
    "    return len(content.lower().split(' '))          # splits on whitespace to get the number of words\n",
    "\n",
    "\n",
    "\n",
    "#  Next, I'll write a function named load_ipython_extension. Jupyter Notebook will use this function in order to load the magic command. The argument to this function implements the register_magic_function method, which takes the name of a function to register as a magic and a string as to what kind of magic, cell in this case. \n",
    "\n",
    "def load_ipython_extension(ipython):                      \n",
    "    ipython.register_magic_function(count_magic, 'cell')"
   ]
  },
  {
   "cell_type": "code",
   "execution_count": 3,
   "metadata": {},
   "outputs": [],
   "source": [
    "%load_ext my_magic"
   ]
  },
  {
   "cell_type": "code",
   "execution_count": 4,
   "metadata": {},
   "outputs": [
    {
     "data": {
      "text/plain": [
       "11"
      ]
     },
     "execution_count": 4,
     "metadata": {},
     "output_type": "execute_result"
    }
   ],
   "source": [
    "%%count_magic\n",
    "Hello world!\n",
    "How are you?\n",
    "I am fine.\n",
    "Goodbye world!"
   ]
  },
  {
   "cell_type": "code",
   "execution_count": null,
   "metadata": {},
   "outputs": [],
   "source": []
  }
 ],
 "metadata": {
  "kernelspec": {
   "display_name": "Python 3",
   "language": "python",
   "name": "python3"
  },
  "language_info": {
   "codemirror_mode": {
    "name": "ipython",
    "version": 3
   },
   "file_extension": ".py",
   "mimetype": "text/x-python",
   "name": "python",
   "nbconvert_exporter": "python",
   "pygments_lexer": "ipython3",
   "version": "3.7.6"
  }
 },
 "nbformat": 4,
 "nbformat_minor": 4
}
